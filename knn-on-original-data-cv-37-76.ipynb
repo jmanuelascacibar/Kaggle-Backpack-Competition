{
 "cells": [
  {
   "cell_type": "markdown",
   "id": "6c6d8bbd",
   "metadata": {
    "_cell_guid": "b1076dfc-b9ad-4769-8c92-a6c4dae69d19",
    "_uuid": "8f2839f25d086af736a60e9eeb907d3b93b6e0e5",
    "papermill": {
     "duration": 0.003962,
     "end_time": "2025-02-20T15:21:51.536326",
     "exception": false,
     "start_time": "2025-02-20T15:21:51.532364",
     "status": "completed"
    },
    "tags": []
   },
   "source": [
    "# Original Dataset\n",
    "According to discussion post [here][1] and code [here][2], the original dataset has randomly assigned targets. It is natural to think that there is no signal and we cannot use features to predict the target. However this is not the case. \n",
    "\n",
    "This notebook demonstrates that we can use KNN regressor to predict rows in the original dataset. The author duplicated 5% of rows. Therefore 10% of the dataset has a pair and we can use a row's pair to predict a row's price.\n",
    "\n",
    "Discussion about this notebook is [here][3]\n",
    "\n",
    "[1]: https://www.kaggle.com/competitions/playground-series-s5e2/discussion/563726\n",
    "[2]: https://www.kaggle.com/code/souradippal/code-i-used-to-create-this-dataset-6-months-back\n",
    "[3]: https://www.kaggle.com/competitions/playground-series-s5e2/discussion/564056"
   ]
  },
  {
   "cell_type": "markdown",
   "id": "054e04aa",
   "metadata": {
    "papermill": {
     "duration": 0.003104,
     "end_time": "2025-02-20T15:21:51.543127",
     "exception": false,
     "start_time": "2025-02-20T15:21:51.540023",
     "status": "completed"
    },
    "tags": []
   },
   "source": [
    "# Load Data"
   ]
  },
  {
   "cell_type": "code",
   "execution_count": 1,
   "id": "5d899afa",
   "metadata": {
    "execution": {
     "iopub.execute_input": "2025-02-20T15:21:51.551177Z",
     "iopub.status.busy": "2025-02-20T15:21:51.550752Z",
     "iopub.status.idle": "2025-02-20T15:21:52.638143Z",
     "shell.execute_reply": "2025-02-20T15:21:52.636928Z"
    },
    "papermill": {
     "duration": 1.093783,
     "end_time": "2025-02-20T15:21:52.640144",
     "exception": false,
     "start_time": "2025-02-20T15:21:51.546361",
     "status": "completed"
    },
    "tags": []
   },
   "outputs": [
    {
     "name": "stdout",
     "output_type": "stream",
     "text": [
      "Original Data shape (52500, 10)\n"
     ]
    },
    {
     "name": "stderr",
     "output_type": "stream",
     "text": [
      "/usr/local/lib/python3.10/dist-packages/pandas/io/formats/format.py:1458: RuntimeWarning: invalid value encountered in greater\n",
      "  has_large_values = (abs_vals > 1e6).any()\n",
      "/usr/local/lib/python3.10/dist-packages/pandas/io/formats/format.py:1459: RuntimeWarning: invalid value encountered in less\n",
      "  has_small_values = ((abs_vals < 10 ** (-self.digits)) & (abs_vals > 0)).any()\n",
      "/usr/local/lib/python3.10/dist-packages/pandas/io/formats/format.py:1459: RuntimeWarning: invalid value encountered in greater\n",
      "  has_small_values = ((abs_vals < 10 ** (-self.digits)) & (abs_vals > 0)).any()\n"
     ]
    },
    {
     "data": {
      "text/html": [
       "<div>\n",
       "<style scoped>\n",
       "    .dataframe tbody tr th:only-of-type {\n",
       "        vertical-align: middle;\n",
       "    }\n",
       "\n",
       "    .dataframe tbody tr th {\n",
       "        vertical-align: top;\n",
       "    }\n",
       "\n",
       "    .dataframe thead th {\n",
       "        text-align: right;\n",
       "    }\n",
       "</style>\n",
       "<table border=\"1\" class=\"dataframe\">\n",
       "  <thead>\n",
       "    <tr style=\"text-align: right;\">\n",
       "      <th></th>\n",
       "      <th>Brand</th>\n",
       "      <th>Material</th>\n",
       "      <th>Size</th>\n",
       "      <th>Compartments</th>\n",
       "      <th>Laptop Compartment</th>\n",
       "      <th>Waterproof</th>\n",
       "      <th>Style</th>\n",
       "      <th>Color</th>\n",
       "      <th>Weight Capacity (kg)</th>\n",
       "      <th>Price</th>\n",
       "    </tr>\n",
       "  </thead>\n",
       "  <tbody>\n",
       "    <tr>\n",
       "      <th>0</th>\n",
       "      <td>Jansport</td>\n",
       "      <td>Nylon</td>\n",
       "      <td>Small</td>\n",
       "      <td>2.0</td>\n",
       "      <td>No</td>\n",
       "      <td>Yes</td>\n",
       "      <td>Backpack</td>\n",
       "      <td>Green</td>\n",
       "      <td>13.340058</td>\n",
       "      <td>143.445135</td>\n",
       "    </tr>\n",
       "    <tr>\n",
       "      <th>1</th>\n",
       "      <td>Under Armour</td>\n",
       "      <td>Nylon</td>\n",
       "      <td>Large</td>\n",
       "      <td>4.0</td>\n",
       "      <td>Yes</td>\n",
       "      <td>Yes</td>\n",
       "      <td>Tote</td>\n",
       "      <td>Pink</td>\n",
       "      <td>5.918030</td>\n",
       "      <td>72.086319</td>\n",
       "    </tr>\n",
       "    <tr>\n",
       "      <th>2</th>\n",
       "      <td>Nike</td>\n",
       "      <td>Nylon</td>\n",
       "      <td>Large</td>\n",
       "      <td>NaN</td>\n",
       "      <td>No</td>\n",
       "      <td>Yes</td>\n",
       "      <td>Messenger</td>\n",
       "      <td>Red</td>\n",
       "      <td>24.088386</td>\n",
       "      <td>29.699631</td>\n",
       "    </tr>\n",
       "    <tr>\n",
       "      <th>3</th>\n",
       "      <td>Nike</td>\n",
       "      <td>Nylon</td>\n",
       "      <td>Small</td>\n",
       "      <td>1.0</td>\n",
       "      <td>Yes</td>\n",
       "      <td>No</td>\n",
       "      <td>Messenger</td>\n",
       "      <td>Pink</td>\n",
       "      <td>5.000000</td>\n",
       "      <td>27.181990</td>\n",
       "    </tr>\n",
       "    <tr>\n",
       "      <th>4</th>\n",
       "      <td>Under Armour</td>\n",
       "      <td>Leather</td>\n",
       "      <td>Small</td>\n",
       "      <td>8.0</td>\n",
       "      <td>Yes</td>\n",
       "      <td>No</td>\n",
       "      <td>NaN</td>\n",
       "      <td>Black</td>\n",
       "      <td>11.258172</td>\n",
       "      <td>71.953236</td>\n",
       "    </tr>\n",
       "  </tbody>\n",
       "</table>\n",
       "</div>"
      ],
      "text/plain": [
       "          Brand Material   Size  Compartments Laptop Compartment Waterproof  \\\n",
       "0      Jansport    Nylon  Small           2.0                 No        Yes   \n",
       "1  Under Armour    Nylon  Large           4.0                Yes        Yes   \n",
       "2          Nike    Nylon  Large           NaN                 No        Yes   \n",
       "3          Nike    Nylon  Small           1.0                Yes         No   \n",
       "4  Under Armour  Leather  Small           8.0                Yes         No   \n",
       "\n",
       "       Style  Color  Weight Capacity (kg)       Price  \n",
       "0   Backpack  Green             13.340058  143.445135  \n",
       "1       Tote   Pink              5.918030   72.086319  \n",
       "2  Messenger    Red             24.088386   29.699631  \n",
       "3  Messenger   Pink              5.000000   27.181990  \n",
       "4        NaN  Black             11.258172   71.953236  "
      ]
     },
     "execution_count": 1,
     "metadata": {},
     "output_type": "execute_result"
    }
   ],
   "source": [
    "import pandas as pd, numpy as np\n",
    "df = pd.read_csv(\"/kaggle/input/student-bag-price-prediction-dataset/Noisy_Student_Bag_Price_Prediction_Dataset.csv\")\n",
    "print(\"Original Data shape\",df.shape)\n",
    "df.head()"
   ]
  },
  {
   "cell_type": "markdown",
   "id": "42daacbd",
   "metadata": {
    "papermill": {
     "duration": 0.003226,
     "end_time": "2025-02-20T15:21:52.647146",
     "exception": false,
     "start_time": "2025-02-20T15:21:52.643920",
     "status": "completed"
    },
    "tags": []
   },
   "source": [
    "# Split into Train and Test\n",
    "We will split the original dataset into train and valid. And we will label encode the categorical features. And we will reduce memory to `float32`."
   ]
  },
  {
   "cell_type": "code",
   "execution_count": 2,
   "id": "cd4f1c76",
   "metadata": {
    "execution": {
     "iopub.execute_input": "2025-02-20T15:21:52.655395Z",
     "iopub.status.busy": "2025-02-20T15:21:52.654987Z",
     "iopub.status.idle": "2025-02-20T15:21:52.742148Z",
     "shell.execute_reply": "2025-02-20T15:21:52.740998Z"
    },
    "papermill": {
     "duration": 0.093202,
     "end_time": "2025-02-20T15:21:52.743747",
     "exception": false,
     "start_time": "2025-02-20T15:21:52.650545",
     "status": "completed"
    },
    "tags": []
   },
   "outputs": [
    {
     "name": "stdout",
     "output_type": "stream",
     "text": [
      "Data after label encoding...\n"
     ]
    },
    {
     "name": "stderr",
     "output_type": "stream",
     "text": [
      "/usr/local/lib/python3.10/dist-packages/pandas/io/formats/format.py:1458: RuntimeWarning: invalid value encountered in greater\n",
      "  has_large_values = (abs_vals > 1e6).any()\n",
      "/usr/local/lib/python3.10/dist-packages/pandas/io/formats/format.py:1459: RuntimeWarning: invalid value encountered in less\n",
      "  has_small_values = ((abs_vals < 10 ** (-self.digits)) & (abs_vals > 0)).any()\n",
      "/usr/local/lib/python3.10/dist-packages/pandas/io/formats/format.py:1459: RuntimeWarning: invalid value encountered in greater\n",
      "  has_small_values = ((abs_vals < 10 ** (-self.digits)) & (abs_vals > 0)).any()\n"
     ]
    },
    {
     "data": {
      "text/html": [
       "<div>\n",
       "<style scoped>\n",
       "    .dataframe tbody tr th:only-of-type {\n",
       "        vertical-align: middle;\n",
       "    }\n",
       "\n",
       "    .dataframe tbody tr th {\n",
       "        vertical-align: top;\n",
       "    }\n",
       "\n",
       "    .dataframe thead th {\n",
       "        text-align: right;\n",
       "    }\n",
       "</style>\n",
       "<table border=\"1\" class=\"dataframe\">\n",
       "  <thead>\n",
       "    <tr style=\"text-align: right;\">\n",
       "      <th></th>\n",
       "      <th>Brand</th>\n",
       "      <th>Material</th>\n",
       "      <th>Size</th>\n",
       "      <th>Compartments</th>\n",
       "      <th>Laptop Compartment</th>\n",
       "      <th>Waterproof</th>\n",
       "      <th>Style</th>\n",
       "      <th>Color</th>\n",
       "      <th>Weight Capacity (kg)</th>\n",
       "      <th>Price</th>\n",
       "    </tr>\n",
       "  </thead>\n",
       "  <tbody>\n",
       "    <tr>\n",
       "      <th>0</th>\n",
       "      <td>0.0</td>\n",
       "      <td>0.0</td>\n",
       "      <td>0.0</td>\n",
       "      <td>2.0</td>\n",
       "      <td>0.0</td>\n",
       "      <td>0.0</td>\n",
       "      <td>0.0</td>\n",
       "      <td>0.0</td>\n",
       "      <td>13.340058</td>\n",
       "      <td>143.445129</td>\n",
       "    </tr>\n",
       "    <tr>\n",
       "      <th>1</th>\n",
       "      <td>1.0</td>\n",
       "      <td>0.0</td>\n",
       "      <td>1.0</td>\n",
       "      <td>4.0</td>\n",
       "      <td>1.0</td>\n",
       "      <td>0.0</td>\n",
       "      <td>1.0</td>\n",
       "      <td>1.0</td>\n",
       "      <td>5.918030</td>\n",
       "      <td>72.086319</td>\n",
       "    </tr>\n",
       "    <tr>\n",
       "      <th>2</th>\n",
       "      <td>2.0</td>\n",
       "      <td>0.0</td>\n",
       "      <td>1.0</td>\n",
       "      <td>NaN</td>\n",
       "      <td>0.0</td>\n",
       "      <td>0.0</td>\n",
       "      <td>2.0</td>\n",
       "      <td>2.0</td>\n",
       "      <td>24.088387</td>\n",
       "      <td>29.699631</td>\n",
       "    </tr>\n",
       "    <tr>\n",
       "      <th>3</th>\n",
       "      <td>2.0</td>\n",
       "      <td>0.0</td>\n",
       "      <td>0.0</td>\n",
       "      <td>1.0</td>\n",
       "      <td>1.0</td>\n",
       "      <td>1.0</td>\n",
       "      <td>2.0</td>\n",
       "      <td>1.0</td>\n",
       "      <td>5.000000</td>\n",
       "      <td>27.181990</td>\n",
       "    </tr>\n",
       "    <tr>\n",
       "      <th>4</th>\n",
       "      <td>1.0</td>\n",
       "      <td>1.0</td>\n",
       "      <td>0.0</td>\n",
       "      <td>8.0</td>\n",
       "      <td>1.0</td>\n",
       "      <td>1.0</td>\n",
       "      <td>NaN</td>\n",
       "      <td>3.0</td>\n",
       "      <td>11.258172</td>\n",
       "      <td>71.953239</td>\n",
       "    </tr>\n",
       "  </tbody>\n",
       "</table>\n",
       "</div>"
      ],
      "text/plain": [
       "   Brand  Material  Size  Compartments  Laptop Compartment  Waterproof  Style  \\\n",
       "0    0.0       0.0   0.0           2.0                 0.0         0.0    0.0   \n",
       "1    1.0       0.0   1.0           4.0                 1.0         0.0    1.0   \n",
       "2    2.0       0.0   1.0           NaN                 0.0         0.0    2.0   \n",
       "3    2.0       0.0   0.0           1.0                 1.0         1.0    2.0   \n",
       "4    1.0       1.0   0.0           8.0                 1.0         1.0    NaN   \n",
       "\n",
       "   Color  Weight Capacity (kg)       Price  \n",
       "0    0.0             13.340058  143.445129  \n",
       "1    1.0              5.918030   72.086319  \n",
       "2    2.0             24.088387   29.699631  \n",
       "3    1.0              5.000000   27.181990  \n",
       "4    3.0             11.258172   71.953239  "
      ]
     },
     "execution_count": 2,
     "metadata": {},
     "output_type": "execute_result"
    }
   ],
   "source": [
    "# LABEL ENCODE AND PRESERVE NANS\n",
    "COLS = ['Brand', 'Material', 'Size', 'Laptop Compartment', 'Waterproof', 'Style', 'Color']\n",
    "for c in COLS:\n",
    "    nans = df[c].isna()\n",
    "    df[c],_ = pd.factorize(df[c])\n",
    "    df[c] = df[c].astype(\"float32\")\n",
    "    df.loc[nans,c] = np.nan\n",
    "COLS2 = ['Compartments', 'Weight Capacity (kg)', 'Price']\n",
    "for c in COLS2:\n",
    "    df[c] = df[c].astype(\"float32\")\n",
    "print(\"Data after label encoding...\")\n",
    "df.head()"
   ]
  },
  {
   "cell_type": "code",
   "execution_count": 3,
   "id": "b60c917e",
   "metadata": {
    "execution": {
     "iopub.execute_input": "2025-02-20T15:21:52.752840Z",
     "iopub.status.busy": "2025-02-20T15:21:52.752464Z",
     "iopub.status.idle": "2025-02-20T15:21:52.758842Z",
     "shell.execute_reply": "2025-02-20T15:21:52.757805Z"
    },
    "papermill": {
     "duration": 0.012748,
     "end_time": "2025-02-20T15:21:52.760644",
     "exception": false,
     "start_time": "2025-02-20T15:21:52.747896",
     "status": "completed"
    },
    "tags": []
   },
   "outputs": [
    {
     "name": "stdout",
     "output_type": "stream",
     "text": [
      "Original subset train shape (50000, 10)\n",
      "Original subset valid shape (2500, 10)\n"
     ]
    }
   ],
   "source": [
    "# SPLIT INTO TRAIN AND VALID FOR EXPERIMENTS BELOW\n",
    "train = df.iloc[:50_000]\n",
    "valid = df.iloc[50_000:]\n",
    "print(\"Original subset train shape\",train.shape)\n",
    "print(\"Original subset valid shape\",valid.shape)"
   ]
  },
  {
   "cell_type": "markdown",
   "id": "c5636a1f",
   "metadata": {
    "papermill": {
     "duration": 0.003877,
     "end_time": "2025-02-20T15:21:52.768930",
     "exception": false,
     "start_time": "2025-02-20T15:21:52.765053",
     "status": "completed"
    },
    "tags": []
   },
   "source": [
    "# Predict Valid with Constant Train Mean\n",
    "We will predict the validation data using the constant value of train mean. And compute validation score"
   ]
  },
  {
   "cell_type": "code",
   "execution_count": 4,
   "id": "f0cde450",
   "metadata": {
    "execution": {
     "iopub.execute_input": "2025-02-20T15:21:52.777878Z",
     "iopub.status.busy": "2025-02-20T15:21:52.777499Z",
     "iopub.status.idle": "2025-02-20T15:21:52.784547Z",
     "shell.execute_reply": "2025-02-20T15:21:52.783608Z"
    },
    "papermill": {
     "duration": 0.013187,
     "end_time": "2025-02-20T15:21:52.786064",
     "exception": false,
     "start_time": "2025-02-20T15:21:52.772877",
     "status": "completed"
    },
    "tags": []
   },
   "outputs": [
    {
     "name": "stdout",
     "output_type": "stream",
     "text": [
      "First 10 predictions: [81.92584229 81.92584229 81.92584229 81.92584229 81.92584229 81.92584229\n",
      " 81.92584229 81.92584229 81.92584229 81.92584229]\n"
     ]
    }
   ],
   "source": [
    "# MAKE PREDICTIONS\n",
    "train_mean = train.Price.mean()\n",
    "true = valid.Price.values\n",
    "pred = np.ones(len(valid))*train_mean\n",
    "print(\"First 10 predictions:\", pred[:10] )"
   ]
  },
  {
   "cell_type": "code",
   "execution_count": 5,
   "id": "01c61b2e",
   "metadata": {
    "execution": {
     "iopub.execute_input": "2025-02-20T15:21:52.795209Z",
     "iopub.status.busy": "2025-02-20T15:21:52.794914Z",
     "iopub.status.idle": "2025-02-20T15:21:52.800492Z",
     "shell.execute_reply": "2025-02-20T15:21:52.799632Z"
    },
    "papermill": {
     "duration": 0.011869,
     "end_time": "2025-02-20T15:21:52.802056",
     "exception": false,
     "start_time": "2025-02-20T15:21:52.790187",
     "status": "completed"
    },
    "tags": []
   },
   "outputs": [
    {
     "name": "stdout",
     "output_type": "stream",
     "text": [
      "Using Constant Prediction - Validation score = 38.99256477970516\n"
     ]
    }
   ],
   "source": [
    "# COMPUTE METRIC\n",
    "m = np.sqrt(np.nanmean( (true-pred)**2 ))\n",
    "print(\"Using Constant Prediction - Validation score =\",m)"
   ]
  },
  {
   "cell_type": "markdown",
   "id": "36e4f7d3",
   "metadata": {
    "papermill": {
     "duration": 0.003811,
     "end_time": "2025-02-20T15:21:52.809964",
     "exception": false,
     "start_time": "2025-02-20T15:21:52.806153",
     "status": "completed"
    },
    "tags": []
   },
   "source": [
    "# Predict Valid with KNN Regressor\n",
    "We will now predict validation data using KNN regressor to demonstrate that KNN regressor performs better than predicting constant mean. This supports the idea that there is signal in the original dataset. We divide `Compartments` and `Weight Capacity (kg)` by 2 because the original dataset author added uniform noise of magnitude 2 to these columns. Therefore when train and valid have distance less than 2 for these columns they can still be a match."
   ]
  },
  {
   "cell_type": "code",
   "execution_count": 6,
   "id": "775b6f7c",
   "metadata": {
    "execution": {
     "iopub.execute_input": "2025-02-20T15:21:52.818926Z",
     "iopub.status.busy": "2025-02-20T15:21:52.818559Z",
     "iopub.status.idle": "2025-02-20T15:21:52.833244Z",
     "shell.execute_reply": "2025-02-20T15:21:52.832180Z"
    },
    "papermill": {
     "duration": 0.021104,
     "end_time": "2025-02-20T15:21:52.835003",
     "exception": false,
     "start_time": "2025-02-20T15:21:52.813899",
     "status": "completed"
    },
    "tags": []
   },
   "outputs": [
    {
     "name": "stdout",
     "output_type": "stream",
     "text": [
      "(50000, 9) (2500, 9)\n"
     ]
    }
   ],
   "source": [
    "# CONVERT TRAIN ANDS VALID TO NUMPY ARRAYS\n",
    "X_train = train[COLS+['Compartments', 'Weight Capacity (kg)']].values\n",
    "X_train[:,-2] /= 2.0\n",
    "X_train[:,-1] /= 2.0\n",
    "y_train = train['Price'].values\n",
    "\n",
    "X_valid = valid[COLS+['Compartments', 'Weight Capacity (kg)']].values\n",
    "X_valid[:,-2] /= 2.0\n",
    "X_valid[:,-1] /= 2.0\n",
    "y_valid = valid['Price'].values\n",
    "\n",
    "print(X_train.shape, X_valid.shape)"
   ]
  },
  {
   "cell_type": "code",
   "execution_count": 7,
   "id": "c2bc1d96",
   "metadata": {
    "execution": {
     "iopub.execute_input": "2025-02-20T15:21:52.844161Z",
     "iopub.status.busy": "2025-02-20T15:21:52.843872Z",
     "iopub.status.idle": "2025-02-20T15:22:07.099173Z",
     "shell.execute_reply": "2025-02-20T15:22:07.098155Z"
    },
    "papermill": {
     "duration": 14.261848,
     "end_time": "2025-02-20T15:22:07.101135",
     "exception": false,
     "start_time": "2025-02-20T15:21:52.839287",
     "status": "completed"
    },
    "tags": []
   },
   "outputs": [
    {
     "data": {
      "text/plain": [
       "(2500,)"
      ]
     },
     "execution_count": 7,
     "metadata": {},
     "output_type": "execute_result"
    }
   ],
   "source": [
    "# SUBTRACT EVERY (2500) VALIDATION VECTOR FROM EVERY (50000) TRAIN VECTOR\n",
    "diff = X_train[:, :, np.newaxis] - X_valid.T[np.newaxis, :, :]\n",
    "nan_count = np.isnan(diff).sum(axis=1)\n",
    "\n",
    "# NOW SQUARE DIFFERENCES AND SUM TO GET DISTANCE SQUARED OF EVERY VAL TO EVERY TRAIN\n",
    "result = np.nansum(diff**2, axis=1) + nan_count * 1.0\n",
    "\n",
    "# FOR EACH VALID, WE HAVE THE INDEX OF TRAIN OF THE SHORTEST DISTANCE\n",
    "distances = np.min(result,axis=0)\n",
    "pred_index = np.argmin(result,axis=0)\n",
    "distances.shape"
   ]
  },
  {
   "cell_type": "code",
   "execution_count": 8,
   "id": "24f469a2",
   "metadata": {
    "execution": {
     "iopub.execute_input": "2025-02-20T15:22:07.111323Z",
     "iopub.status.busy": "2025-02-20T15:22:07.111001Z",
     "iopub.status.idle": "2025-02-20T15:22:07.117472Z",
     "shell.execute_reply": "2025-02-20T15:22:07.116599Z"
    },
    "papermill": {
     "duration": 0.01325,
     "end_time": "2025-02-20T15:22:07.119046",
     "exception": false,
     "start_time": "2025-02-20T15:22:07.105796",
     "status": "completed"
    },
    "tags": []
   },
   "outputs": [
    {
     "name": "stdout",
     "output_type": "stream",
     "text": [
      "First 10 predictions: [37.510292 40.4493   81.92584  81.92584  81.92584  81.92584  87.75109\n",
      " 81.92584  88.74465  86.55765 ]\n"
     ]
    }
   ],
   "source": [
    "# MAKE PREDICTIONS\n",
    "pred = y_train[pred_index].copy()\n",
    "pred[distances>=1] = np.nanmean(y_train)\n",
    "print(\"First 10 predictions:\", pred[:10] )"
   ]
  },
  {
   "cell_type": "code",
   "execution_count": 9,
   "id": "dc36c3a4",
   "metadata": {
    "execution": {
     "iopub.execute_input": "2025-02-20T15:22:07.128885Z",
     "iopub.status.busy": "2025-02-20T15:22:07.128517Z",
     "iopub.status.idle": "2025-02-20T15:22:07.134096Z",
     "shell.execute_reply": "2025-02-20T15:22:07.133059Z"
    },
    "papermill": {
     "duration": 0.011917,
     "end_time": "2025-02-20T15:22:07.135524",
     "exception": false,
     "start_time": "2025-02-20T15:22:07.123607",
     "status": "completed"
    },
    "tags": []
   },
   "outputs": [
    {
     "name": "stdout",
     "output_type": "stream",
     "text": [
      "Using KNN Regressor - Validation score = 37.760357\n"
     ]
    }
   ],
   "source": [
    "# COMPUTE METRIC\n",
    "m = np.sqrt(np.nanmean( (true-pred)**2 ))\n",
    "print(\"Using KNN Regressor - Validation score =\",m)"
   ]
  }
 ],
 "metadata": {
  "kaggle": {
   "accelerator": "none",
   "dataSources": [
    {
     "databundleVersionId": 10995111,
     "sourceId": 90274,
     "sourceType": "competition"
    },
    {
     "datasetId": 5560970,
     "sourceId": 9198133,
     "sourceType": "datasetVersion"
    }
   ],
   "dockerImageVersionId": 30886,
   "isGpuEnabled": false,
   "isInternetEnabled": true,
   "language": "python",
   "sourceType": "notebook"
  },
  "kernelspec": {
   "display_name": "Python 3 (ipykernel)",
   "language": "python",
   "name": "python3"
  },
  "language_info": {
   "codemirror_mode": {
    "name": "ipython",
    "version": 3
   },
   "file_extension": ".py",
   "mimetype": "text/x-python",
   "name": "python",
   "nbconvert_exporter": "python",
   "pygments_lexer": "ipython3",
   "version": "3.12.8"
  },
  "papermill": {
   "default_parameters": {},
   "duration": 18.982275,
   "end_time": "2025-02-20T15:22:07.760084",
   "environment_variables": {},
   "exception": null,
   "input_path": "__notebook__.ipynb",
   "output_path": "__notebook__.ipynb",
   "parameters": {},
   "start_time": "2025-02-20T15:21:48.777809",
   "version": "2.6.0"
  }
 },
 "nbformat": 4,
 "nbformat_minor": 5
}
